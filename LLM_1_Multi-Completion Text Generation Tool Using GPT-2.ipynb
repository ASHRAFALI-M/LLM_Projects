{
 "cells": [
  {
   "cell_type": "markdown",
   "id": "586e1e54",
   "metadata": {},
   "source": [
    "# Multi-Completion Text Generation Tool Using GPT-2"
   ]
  },
  {
   "cell_type": "code",
   "execution_count": 1,
   "id": "07694211",
   "metadata": {},
   "outputs": [],
   "source": [
    "from transformers import GPT2LMHeadModel, GPT2Tokenizer\n",
    "\n",
    "def generate_text(prompt, model_name=\"gpt2\", max_length=50):\n",
    "    # Load pre-trained model and tokenizer\n",
    "    tokenizer = GPT2Tokenizer.from_pretrained(model_name)\n",
    "    model = GPT2LMHeadModel.from_pretrained(model_name)\n",
    "\n",
    "    # Encode the input prompt\n",
    "    inputs = tokenizer.encode(prompt, return_tensors='pt')\n",
    "\n",
    "    # Generate text\n",
    "    outputs = model.generate(inputs, max_length=max_length, num_return_sequences=1, do_sample=True)\n",
    "    text = tokenizer.decode(outputs[0], skip_special_tokens=True)\n",
    "    \n",
    "    return text"
   ]
  },
  {
   "cell_type": "code",
   "execution_count": 2,
   "id": "a2da2a1a",
   "metadata": {},
   "outputs": [],
   "source": [
    "def multi_generate(prompt, num_generations=5, max_length=50):\n",
    "    for i in range(num_generations):\n",
    "        print(f\"Generation {i+1}:\")\n",
    "        generated_text = generate_text(prompt, max_length=max_length)\n",
    "        print(generated_text)\n",
    "        print('-' * 50)"
   ]
  },
  {
   "cell_type": "code",
   "execution_count": 4,
   "id": "2b65f4a1",
   "metadata": {},
   "outputs": [
    {
     "name": "stdout",
     "output_type": "stream",
     "text": [
      "Enter a prompt: In a world where time travel is as common as taking a bus, a young inventor accidentally creates a device that...\n",
      "Enter the number of generations: 3\n",
      "Enter the maximum length of each generation: 200\n",
      "Generating text...\n",
      "Generation 1:\n"
     ]
    },
    {
     "name": "stderr",
     "output_type": "stream",
     "text": [
      "The attention mask and the pad token id were not set. As a consequence, you may observe unexpected behavior. Please pass your input's `attention_mask` to obtain reliable results.\n",
      "Setting `pad_token_id` to `eos_token_id`:50256 for open-end generation.\n"
     ]
    },
    {
     "name": "stdout",
     "output_type": "stream",
     "text": [
      "In a world where time travel is as common as taking a bus, a young inventor accidentally creates a device that......you have a day in your life, an entire life in your pocket......and that's about it. But all of that can be done with the help of science and a few extra little tricks, the stuff that actually looks like a phone and can do something similar to a telephone. Now that's cool.\" And he has become the first inventor with such a technological hand.\n",
      "\n",
      "The device is part of the company's \"Project, New York\" initiative and its \"World Science: Science and Technology at the National Science Foundation\" initiative, which aims to bring new public interest in high-tech research to public policy.\n",
      "\n",
      "The concept to create a smartphone as the \"home button\" for all our most important information is a simple yet innovative concept for research in robotics and sensors, said David G. Harkness, Director of the Johns Hopkins Engineering Brain Science Program\n",
      "--------------------------------------------------\n",
      "Generation 2:\n"
     ]
    },
    {
     "name": "stderr",
     "output_type": "stream",
     "text": [
      "The attention mask and the pad token id were not set. As a consequence, you may observe unexpected behavior. Please pass your input's `attention_mask` to obtain reliable results.\n",
      "Setting `pad_token_id` to `eos_token_id`:50256 for open-end generation.\n"
     ]
    },
    {
     "name": "stdout",
     "output_type": "stream",
     "text": [
      "In a world where time travel is as common as taking a bus, a young inventor accidentally creates a device that... Free View in iTunes\n",
      "\n",
      "22 Clean Episode 2523: B.W.I.A., Dr. David Hare's Last Wish B.W.I.A. seems like a good idea. Dr. David Hare believes that his friend, Dr. Stephen Hawking, is a mysterious and deadly entity who is... Free View in iTunes\n",
      "\n",
      "23 Clean Episode 254: The Warchum Hypothesis, James Clerk Maxwell's The Warchum Hypothesis and more. Free View in iTunes\n",
      "\n",
      "24 Clean Episode 253: \"Blackmail\" and the Internet, Steve Jobs and the Mac, and More. Free View in iTunes\n",
      "\n",
      "25 Clean Episode 252: My Grandfather and My Grandmother's Secret, Purity, and More! Free View in iTunes\n",
      "\n",
      "26 Clean Episode 251: Steve Jobs and The Warchum, Steven Pinker, and More\n",
      "--------------------------------------------------\n",
      "Generation 3:\n"
     ]
    },
    {
     "name": "stderr",
     "output_type": "stream",
     "text": [
      "The attention mask and the pad token id were not set. As a consequence, you may observe unexpected behavior. Please pass your input's `attention_mask` to obtain reliable results.\n",
      "Setting `pad_token_id` to `eos_token_id`:50256 for open-end generation.\n"
     ]
    },
    {
     "name": "stdout",
     "output_type": "stream",
     "text": [
      "In a world where time travel is as common as taking a bus, a young inventor accidentally creates a device that...\n",
      "\n",
      "A teenage girl dies when she is in the wrong time on a road accident. The only way to help her is to...\n",
      "\n",
      "A woman in Russia gets into a car accident when she becomes too intoxicated to drive with a woman. Her best friend is...\n",
      "\n",
      "A doctor decides to put an electrode into some cancer cells in order to cure cancer. The problem...\n",
      "\n",
      "An 18 year old girl dies after she is caught in an air balloon and gets lost in the forest. Meanwhile her father and...\n",
      "\n",
      "A man becomes addicted to the hallucinogen psilocybin - and finds that he is able to change the way he thinks. However, he has...\n",
      "\n",
      "A man is sent off in an air balloon - and is never caught. After he realizes his...\n",
      "\n",
      "A man gets caught in a sea of spiders, so he sets himself up\n",
      "--------------------------------------------------\n"
     ]
    }
   ],
   "source": [
    "if __name__ == \"__main__\":\n",
    "    prompt = input(\"Enter a prompt: \")\n",
    "    num_generations = int(input(\"Enter the number of generations: \"))\n",
    "    max_length = int(input(\"Enter the maximum length of each generation: \"))\n",
    "    \n",
    "    print(\"Generating text...\")\n",
    "    multi_generate(prompt, num_generations=num_generations, max_length=max_length)"
   ]
  },
  {
   "cell_type": "code",
   "execution_count": null,
   "id": "badd1795",
   "metadata": {},
   "outputs": [],
   "source": []
  }
 ],
 "metadata": {
  "kernelspec": {
   "display_name": "Python 3 (ipykernel)",
   "language": "python",
   "name": "python3"
  },
  "language_info": {
   "codemirror_mode": {
    "name": "ipython",
    "version": 3
   },
   "file_extension": ".py",
   "mimetype": "text/x-python",
   "name": "python",
   "nbconvert_exporter": "python",
   "pygments_lexer": "ipython3",
   "version": "3.10.9"
  }
 },
 "nbformat": 4,
 "nbformat_minor": 5
}
